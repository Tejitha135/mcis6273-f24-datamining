{
  "metadata": {
    "kernelspec": {
      "name": "python",
      "display_name": "Python (Pyodide)",
      "language": "python"
    },
    "language_info": {
      "codemirror_mode": {
        "name": "python",
        "version": 3
      },
      "file_extension": ".py",
      "mimetype": "text/x-python",
      "name": "python",
      "nbconvert_exporter": "python",
      "pygments_lexer": "ipython3",
      "version": "3.8"
    }
  },
  "nbformat_minor": 4,
  "nbformat": 4,
  "cells": [
    {
      "cell_type": "code",
      "source": "import pandas as pd",
      "metadata": {
        "trusted": true
      },
      "outputs": [],
      "execution_count": 1
    },
    {
      "cell_type": "code",
      "source": "import json",
      "metadata": {
        "trusted": true
      },
      "outputs": [],
      "execution_count": 2
    },
    {
      "cell_type": "code",
      "source": "import datetime",
      "metadata": {
        "trusted": true
      },
      "outputs": [],
      "execution_count": 3
    },
    {
      "cell_type": "code",
      "source": "df_total = pd.DataFrame()",
      "metadata": {
        "trusted": true
      },
      "outputs": [],
      "execution_count": 4
    },
    {
      "cell_type": "code",
      "source": "year = 2008\nwhile year<2022:\n    file_name = \"data/winter_\"+str(year)+\"-\"+str(year+1)+\".json\"\n    file_pointer = open(file_name)\n    file_data = json.load(file_pointer)\n    df_total = pd.concat([df_total, pd.json_normalize(file_data['results'])])\n    year+=1\n    file_pointer.close()",
      "metadata": {
        "trusted": true
      },
      "outputs": [],
      "execution_count": 5
    },
    {
      "cell_type": "code",
      "source": "df_total",
      "metadata": {
        "trusted": true
      },
      "outputs": [
        {
          "execution_count": 6,
          "output_type": "execute_result",
          "data": {
            "text/plain": "                    date datatype            station attributes    value\n0    2008-12-15T00:00:00     ADPT  GHCND:USW00003017       ,,W,   -244.0\n1    2008-12-15T00:00:00     ASLP  GHCND:USW00003017       ,,W,  10298.0\n2    2008-12-15T00:00:00     ASTP  GHCND:USW00003017       ,,W,   8324.0\n3    2008-12-15T00:00:00     AWBT  GHCND:USW00003017       ,,W,   -222.0\n4    2008-12-15T00:00:00     AWND  GHCND:USW00003017       ,,W,      4.7\n..                   ...      ...                ...        ...      ...\n695  2022-01-21T00:00:00     WDF2  GHCND:USW00003017       ,,W,     30.0\n696  2022-01-21T00:00:00     WDF5  GHCND:USW00003017       ,,W,     50.0\n697  2022-01-21T00:00:00     WSF2  GHCND:USW00003017       ,,W,     16.1\n698  2022-01-21T00:00:00     WSF5  GHCND:USW00003017       ,,W,     25.1\n699  2022-01-21T00:00:00     WT01  GHCND:USW00003017       ,,W,      1.0\n\n[9740 rows x 5 columns]",
            "text/html": "<div>\n<style scoped>\n    .dataframe tbody tr th:only-of-type {\n        vertical-align: middle;\n    }\n\n    .dataframe tbody tr th {\n        vertical-align: top;\n    }\n\n    .dataframe thead th {\n        text-align: right;\n    }\n</style>\n<table border=\"1\" class=\"dataframe\">\n  <thead>\n    <tr style=\"text-align: right;\">\n      <th></th>\n      <th>date</th>\n      <th>datatype</th>\n      <th>station</th>\n      <th>attributes</th>\n      <th>value</th>\n    </tr>\n  </thead>\n  <tbody>\n    <tr>\n      <th>0</th>\n      <td>2008-12-15T00:00:00</td>\n      <td>ADPT</td>\n      <td>GHCND:USW00003017</td>\n      <td>,,W,</td>\n      <td>-244.0</td>\n    </tr>\n    <tr>\n      <th>1</th>\n      <td>2008-12-15T00:00:00</td>\n      <td>ASLP</td>\n      <td>GHCND:USW00003017</td>\n      <td>,,W,</td>\n      <td>10298.0</td>\n    </tr>\n    <tr>\n      <th>2</th>\n      <td>2008-12-15T00:00:00</td>\n      <td>ASTP</td>\n      <td>GHCND:USW00003017</td>\n      <td>,,W,</td>\n      <td>8324.0</td>\n    </tr>\n    <tr>\n      <th>3</th>\n      <td>2008-12-15T00:00:00</td>\n      <td>AWBT</td>\n      <td>GHCND:USW00003017</td>\n      <td>,,W,</td>\n      <td>-222.0</td>\n    </tr>\n    <tr>\n      <th>4</th>\n      <td>2008-12-15T00:00:00</td>\n      <td>AWND</td>\n      <td>GHCND:USW00003017</td>\n      <td>,,W,</td>\n      <td>4.7</td>\n    </tr>\n    <tr>\n      <th>...</th>\n      <td>...</td>\n      <td>...</td>\n      <td>...</td>\n      <td>...</td>\n      <td>...</td>\n    </tr>\n    <tr>\n      <th>695</th>\n      <td>2022-01-21T00:00:00</td>\n      <td>WDF2</td>\n      <td>GHCND:USW00003017</td>\n      <td>,,W,</td>\n      <td>30.0</td>\n    </tr>\n    <tr>\n      <th>696</th>\n      <td>2022-01-21T00:00:00</td>\n      <td>WDF5</td>\n      <td>GHCND:USW00003017</td>\n      <td>,,W,</td>\n      <td>50.0</td>\n    </tr>\n    <tr>\n      <th>697</th>\n      <td>2022-01-21T00:00:00</td>\n      <td>WSF2</td>\n      <td>GHCND:USW00003017</td>\n      <td>,,W,</td>\n      <td>16.1</td>\n    </tr>\n    <tr>\n      <th>698</th>\n      <td>2022-01-21T00:00:00</td>\n      <td>WSF5</td>\n      <td>GHCND:USW00003017</td>\n      <td>,,W,</td>\n      <td>25.1</td>\n    </tr>\n    <tr>\n      <th>699</th>\n      <td>2022-01-21T00:00:00</td>\n      <td>WT01</td>\n      <td>GHCND:USW00003017</td>\n      <td>,,W,</td>\n      <td>1.0</td>\n    </tr>\n  </tbody>\n</table>\n<p>9740 rows × 5 columns</p>\n</div>"
          },
          "metadata": {}
        }
      ],
      "execution_count": 6
    },
    {
      "cell_type": "code",
      "source": "df_filtered=df_total.query(\"datatype in ['TMAX','TMIN']\")",
      "metadata": {
        "trusted": true
      },
      "outputs": [],
      "execution_count": 7
    },
    {
      "cell_type": "code",
      "source": "df_filtered",
      "metadata": {
        "trusted": true
      },
      "outputs": [
        {
          "execution_count": 8,
          "output_type": "execute_result",
          "data": {
            "text/plain": "                    date datatype            station attributes  value\n14   2008-12-15T00:00:00     TMAX  GHCND:USW00003017   ,,0,2400    2.0\n15   2008-12-15T00:00:00     TMIN  GHCND:USW00003017   ,,0,2400  -19.0\n37   2008-12-16T00:00:00     TMAX  GHCND:USW00003017   ,,0,2400   34.0\n38   2008-12-16T00:00:00     TMIN  GHCND:USW00003017   ,,0,2400   -8.0\n59   2008-12-17T00:00:00     TMAX  GHCND:USW00003017   ,,0,2400   37.0\n..                   ...      ...                ...        ...    ...\n652  2022-01-19T00:00:00     TMIN  GHCND:USW00003017   ,,W,2400   17.0\n672  2022-01-20T00:00:00     TMAX  GHCND:USW00003017   ,,W,2400   39.0\n673  2022-01-20T00:00:00     TMIN  GHCND:USW00003017   ,,W,2400   16.0\n693  2022-01-21T00:00:00     TMAX  GHCND:USW00003017   ,,W,2400   36.0\n694  2022-01-21T00:00:00     TMIN  GHCND:USW00003017   ,,W,2400   16.0\n\n[1032 rows x 5 columns]",
            "text/html": "<div>\n<style scoped>\n    .dataframe tbody tr th:only-of-type {\n        vertical-align: middle;\n    }\n\n    .dataframe tbody tr th {\n        vertical-align: top;\n    }\n\n    .dataframe thead th {\n        text-align: right;\n    }\n</style>\n<table border=\"1\" class=\"dataframe\">\n  <thead>\n    <tr style=\"text-align: right;\">\n      <th></th>\n      <th>date</th>\n      <th>datatype</th>\n      <th>station</th>\n      <th>attributes</th>\n      <th>value</th>\n    </tr>\n  </thead>\n  <tbody>\n    <tr>\n      <th>14</th>\n      <td>2008-12-15T00:00:00</td>\n      <td>TMAX</td>\n      <td>GHCND:USW00003017</td>\n      <td>,,0,2400</td>\n      <td>2.0</td>\n    </tr>\n    <tr>\n      <th>15</th>\n      <td>2008-12-15T00:00:00</td>\n      <td>TMIN</td>\n      <td>GHCND:USW00003017</td>\n      <td>,,0,2400</td>\n      <td>-19.0</td>\n    </tr>\n    <tr>\n      <th>37</th>\n      <td>2008-12-16T00:00:00</td>\n      <td>TMAX</td>\n      <td>GHCND:USW00003017</td>\n      <td>,,0,2400</td>\n      <td>34.0</td>\n    </tr>\n    <tr>\n      <th>38</th>\n      <td>2008-12-16T00:00:00</td>\n      <td>TMIN</td>\n      <td>GHCND:USW00003017</td>\n      <td>,,0,2400</td>\n      <td>-8.0</td>\n    </tr>\n    <tr>\n      <th>59</th>\n      <td>2008-12-17T00:00:00</td>\n      <td>TMAX</td>\n      <td>GHCND:USW00003017</td>\n      <td>,,0,2400</td>\n      <td>37.0</td>\n    </tr>\n    <tr>\n      <th>...</th>\n      <td>...</td>\n      <td>...</td>\n      <td>...</td>\n      <td>...</td>\n      <td>...</td>\n    </tr>\n    <tr>\n      <th>652</th>\n      <td>2022-01-19T00:00:00</td>\n      <td>TMIN</td>\n      <td>GHCND:USW00003017</td>\n      <td>,,W,2400</td>\n      <td>17.0</td>\n    </tr>\n    <tr>\n      <th>672</th>\n      <td>2022-01-20T00:00:00</td>\n      <td>TMAX</td>\n      <td>GHCND:USW00003017</td>\n      <td>,,W,2400</td>\n      <td>39.0</td>\n    </tr>\n    <tr>\n      <th>673</th>\n      <td>2022-01-20T00:00:00</td>\n      <td>TMIN</td>\n      <td>GHCND:USW00003017</td>\n      <td>,,W,2400</td>\n      <td>16.0</td>\n    </tr>\n    <tr>\n      <th>693</th>\n      <td>2022-01-21T00:00:00</td>\n      <td>TMAX</td>\n      <td>GHCND:USW00003017</td>\n      <td>,,W,2400</td>\n      <td>36.0</td>\n    </tr>\n    <tr>\n      <th>694</th>\n      <td>2022-01-21T00:00:00</td>\n      <td>TMIN</td>\n      <td>GHCND:USW00003017</td>\n      <td>,,W,2400</td>\n      <td>16.0</td>\n    </tr>\n  </tbody>\n</table>\n<p>1032 rows × 5 columns</p>\n</div>"
          },
          "metadata": {}
        }
      ],
      "execution_count": 8
    },
    {
      "cell_type": "code",
      "source": "df_TMAX=df_filtered.groupby('datatype').get_group('TMAX')[['date','value']]",
      "metadata": {
        "trusted": true
      },
      "outputs": [],
      "execution_count": 27
    },
    {
      "cell_type": "code",
      "source": "df_TMAX",
      "metadata": {
        "trusted": true
      },
      "outputs": [
        {
          "execution_count": 28,
          "output_type": "execute_result",
          "data": {
            "text/plain": "                    date  value\n14   2008-12-15T00:00:00    2.0\n37   2008-12-16T00:00:00   34.0\n59   2008-12-17T00:00:00   37.0\n80   2008-12-18T00:00:00   28.0\n109  2008-12-19T00:00:00   44.0\n..                   ...    ...\n615  2022-01-17T00:00:00   62.0\n633  2022-01-18T00:00:00   58.0\n651  2022-01-19T00:00:00   31.0\n672  2022-01-20T00:00:00   39.0\n693  2022-01-21T00:00:00   36.0\n\n[516 rows x 2 columns]",
            "text/html": "<div>\n<style scoped>\n    .dataframe tbody tr th:only-of-type {\n        vertical-align: middle;\n    }\n\n    .dataframe tbody tr th {\n        vertical-align: top;\n    }\n\n    .dataframe thead th {\n        text-align: right;\n    }\n</style>\n<table border=\"1\" class=\"dataframe\">\n  <thead>\n    <tr style=\"text-align: right;\">\n      <th></th>\n      <th>date</th>\n      <th>value</th>\n    </tr>\n  </thead>\n  <tbody>\n    <tr>\n      <th>14</th>\n      <td>2008-12-15T00:00:00</td>\n      <td>2.0</td>\n    </tr>\n    <tr>\n      <th>37</th>\n      <td>2008-12-16T00:00:00</td>\n      <td>34.0</td>\n    </tr>\n    <tr>\n      <th>59</th>\n      <td>2008-12-17T00:00:00</td>\n      <td>37.0</td>\n    </tr>\n    <tr>\n      <th>80</th>\n      <td>2008-12-18T00:00:00</td>\n      <td>28.0</td>\n    </tr>\n    <tr>\n      <th>109</th>\n      <td>2008-12-19T00:00:00</td>\n      <td>44.0</td>\n    </tr>\n    <tr>\n      <th>...</th>\n      <td>...</td>\n      <td>...</td>\n    </tr>\n    <tr>\n      <th>615</th>\n      <td>2022-01-17T00:00:00</td>\n      <td>62.0</td>\n    </tr>\n    <tr>\n      <th>633</th>\n      <td>2022-01-18T00:00:00</td>\n      <td>58.0</td>\n    </tr>\n    <tr>\n      <th>651</th>\n      <td>2022-01-19T00:00:00</td>\n      <td>31.0</td>\n    </tr>\n    <tr>\n      <th>672</th>\n      <td>2022-01-20T00:00:00</td>\n      <td>39.0</td>\n    </tr>\n    <tr>\n      <th>693</th>\n      <td>2022-01-21T00:00:00</td>\n      <td>36.0</td>\n    </tr>\n  </tbody>\n</table>\n<p>516 rows × 2 columns</p>\n</div>"
          },
          "metadata": {}
        }
      ],
      "execution_count": 28
    },
    {
      "cell_type": "code",
      "source": "df_TMAX=df_TMAX.set_index('date')",
      "metadata": {
        "trusted": true
      },
      "outputs": [],
      "execution_count": 29
    },
    {
      "cell_type": "code",
      "source": "df_TMAX",
      "metadata": {
        "trusted": true
      },
      "outputs": [
        {
          "execution_count": 33,
          "output_type": "execute_result",
          "data": {
            "text/plain": "                     value\ndate                      \n2008-12-15T00:00:00    2.0\n2008-12-16T00:00:00   34.0\n2008-12-17T00:00:00   37.0\n2008-12-18T00:00:00   28.0\n2008-12-19T00:00:00   44.0\n...                    ...\n2022-01-17T00:00:00   62.0\n2022-01-18T00:00:00   58.0\n2022-01-19T00:00:00   31.0\n2022-01-20T00:00:00   39.0\n2022-01-21T00:00:00   36.0\n\n[516 rows x 1 columns]",
            "text/html": "<div>\n<style scoped>\n    .dataframe tbody tr th:only-of-type {\n        vertical-align: middle;\n    }\n\n    .dataframe tbody tr th {\n        vertical-align: top;\n    }\n\n    .dataframe thead th {\n        text-align: right;\n    }\n</style>\n<table border=\"1\" class=\"dataframe\">\n  <thead>\n    <tr style=\"text-align: right;\">\n      <th></th>\n      <th>value</th>\n    </tr>\n    <tr>\n      <th>date</th>\n      <th></th>\n    </tr>\n  </thead>\n  <tbody>\n    <tr>\n      <th>2008-12-15T00:00:00</th>\n      <td>2.0</td>\n    </tr>\n    <tr>\n      <th>2008-12-16T00:00:00</th>\n      <td>34.0</td>\n    </tr>\n    <tr>\n      <th>2008-12-17T00:00:00</th>\n      <td>37.0</td>\n    </tr>\n    <tr>\n      <th>2008-12-18T00:00:00</th>\n      <td>28.0</td>\n    </tr>\n    <tr>\n      <th>2008-12-19T00:00:00</th>\n      <td>44.0</td>\n    </tr>\n    <tr>\n      <th>...</th>\n      <td>...</td>\n    </tr>\n    <tr>\n      <th>2022-01-17T00:00:00</th>\n      <td>62.0</td>\n    </tr>\n    <tr>\n      <th>2022-01-18T00:00:00</th>\n      <td>58.0</td>\n    </tr>\n    <tr>\n      <th>2022-01-19T00:00:00</th>\n      <td>31.0</td>\n    </tr>\n    <tr>\n      <th>2022-01-20T00:00:00</th>\n      <td>39.0</td>\n    </tr>\n    <tr>\n      <th>2022-01-21T00:00:00</th>\n      <td>36.0</td>\n    </tr>\n  </tbody>\n</table>\n<p>516 rows × 1 columns</p>\n</div>"
          },
          "metadata": {}
        }
      ],
      "execution_count": 33
    },
    {
      "cell_type": "code",
      "source": "df_TMAX.rename(columns={'value':'TMAX'},inplace=True)",
      "metadata": {
        "trusted": true
      },
      "outputs": [],
      "execution_count": 34
    },
    {
      "cell_type": "code",
      "source": "df_TMAX",
      "metadata": {
        "trusted": true
      },
      "outputs": [
        {
          "execution_count": 35,
          "output_type": "execute_result",
          "data": {
            "text/plain": "                     TMAX\ndate                     \n2008-12-15T00:00:00   2.0\n2008-12-16T00:00:00  34.0\n2008-12-17T00:00:00  37.0\n2008-12-18T00:00:00  28.0\n2008-12-19T00:00:00  44.0\n...                   ...\n2022-01-17T00:00:00  62.0\n2022-01-18T00:00:00  58.0\n2022-01-19T00:00:00  31.0\n2022-01-20T00:00:00  39.0\n2022-01-21T00:00:00  36.0\n\n[516 rows x 1 columns]",
            "text/html": "<div>\n<style scoped>\n    .dataframe tbody tr th:only-of-type {\n        vertical-align: middle;\n    }\n\n    .dataframe tbody tr th {\n        vertical-align: top;\n    }\n\n    .dataframe thead th {\n        text-align: right;\n    }\n</style>\n<table border=\"1\" class=\"dataframe\">\n  <thead>\n    <tr style=\"text-align: right;\">\n      <th></th>\n      <th>TMAX</th>\n    </tr>\n    <tr>\n      <th>date</th>\n      <th></th>\n    </tr>\n  </thead>\n  <tbody>\n    <tr>\n      <th>2008-12-15T00:00:00</th>\n      <td>2.0</td>\n    </tr>\n    <tr>\n      <th>2008-12-16T00:00:00</th>\n      <td>34.0</td>\n    </tr>\n    <tr>\n      <th>2008-12-17T00:00:00</th>\n      <td>37.0</td>\n    </tr>\n    <tr>\n      <th>2008-12-18T00:00:00</th>\n      <td>28.0</td>\n    </tr>\n    <tr>\n      <th>2008-12-19T00:00:00</th>\n      <td>44.0</td>\n    </tr>\n    <tr>\n      <th>...</th>\n      <td>...</td>\n    </tr>\n    <tr>\n      <th>2022-01-17T00:00:00</th>\n      <td>62.0</td>\n    </tr>\n    <tr>\n      <th>2022-01-18T00:00:00</th>\n      <td>58.0</td>\n    </tr>\n    <tr>\n      <th>2022-01-19T00:00:00</th>\n      <td>31.0</td>\n    </tr>\n    <tr>\n      <th>2022-01-20T00:00:00</th>\n      <td>39.0</td>\n    </tr>\n    <tr>\n      <th>2022-01-21T00:00:00</th>\n      <td>36.0</td>\n    </tr>\n  </tbody>\n</table>\n<p>516 rows × 1 columns</p>\n</div>"
          },
          "metadata": {}
        }
      ],
      "execution_count": 35
    },
    {
      "cell_type": "code",
      "source": "df_TMIN=df_filtered.groupby('datatype').get_group('TMIN')[['date','value']]",
      "metadata": {
        "trusted": true
      },
      "outputs": [],
      "execution_count": 36
    },
    {
      "cell_type": "code",
      "source": "df_TMIN=df_TMIN.set_index('date')",
      "metadata": {
        "trusted": true
      },
      "outputs": [],
      "execution_count": 37
    },
    {
      "cell_type": "code",
      "source": "df_TMIN",
      "metadata": {
        "trusted": true
      },
      "outputs": [
        {
          "execution_count": 38,
          "output_type": "execute_result",
          "data": {
            "text/plain": "                     value\ndate                      \n2008-12-15T00:00:00  -19.0\n2008-12-16T00:00:00   -8.0\n2008-12-17T00:00:00   14.0\n2008-12-18T00:00:00    5.0\n2008-12-19T00:00:00   14.0\n...                    ...\n2022-01-17T00:00:00   24.0\n2022-01-18T00:00:00   24.0\n2022-01-19T00:00:00   17.0\n2022-01-20T00:00:00   16.0\n2022-01-21T00:00:00   16.0\n\n[516 rows x 1 columns]",
            "text/html": "<div>\n<style scoped>\n    .dataframe tbody tr th:only-of-type {\n        vertical-align: middle;\n    }\n\n    .dataframe tbody tr th {\n        vertical-align: top;\n    }\n\n    .dataframe thead th {\n        text-align: right;\n    }\n</style>\n<table border=\"1\" class=\"dataframe\">\n  <thead>\n    <tr style=\"text-align: right;\">\n      <th></th>\n      <th>value</th>\n    </tr>\n    <tr>\n      <th>date</th>\n      <th></th>\n    </tr>\n  </thead>\n  <tbody>\n    <tr>\n      <th>2008-12-15T00:00:00</th>\n      <td>-19.0</td>\n    </tr>\n    <tr>\n      <th>2008-12-16T00:00:00</th>\n      <td>-8.0</td>\n    </tr>\n    <tr>\n      <th>2008-12-17T00:00:00</th>\n      <td>14.0</td>\n    </tr>\n    <tr>\n      <th>2008-12-18T00:00:00</th>\n      <td>5.0</td>\n    </tr>\n    <tr>\n      <th>2008-12-19T00:00:00</th>\n      <td>14.0</td>\n    </tr>\n    <tr>\n      <th>...</th>\n      <td>...</td>\n    </tr>\n    <tr>\n      <th>2022-01-17T00:00:00</th>\n      <td>24.0</td>\n    </tr>\n    <tr>\n      <th>2022-01-18T00:00:00</th>\n      <td>24.0</td>\n    </tr>\n    <tr>\n      <th>2022-01-19T00:00:00</th>\n      <td>17.0</td>\n    </tr>\n    <tr>\n      <th>2022-01-20T00:00:00</th>\n      <td>16.0</td>\n    </tr>\n    <tr>\n      <th>2022-01-21T00:00:00</th>\n      <td>16.0</td>\n    </tr>\n  </tbody>\n</table>\n<p>516 rows × 1 columns</p>\n</div>"
          },
          "metadata": {}
        }
      ],
      "execution_count": 38
    },
    {
      "cell_type": "code",
      "source": "df_TMIN.rename(columns={'value':'TMIN'},inplace=True)",
      "metadata": {
        "trusted": true
      },
      "outputs": [],
      "execution_count": 39
    },
    {
      "cell_type": "code",
      "source": "df_TMIN",
      "metadata": {
        "trusted": true
      },
      "outputs": [
        {
          "execution_count": 40,
          "output_type": "execute_result",
          "data": {
            "text/plain": "                     TMIN\ndate                     \n2008-12-15T00:00:00 -19.0\n2008-12-16T00:00:00  -8.0\n2008-12-17T00:00:00  14.0\n2008-12-18T00:00:00   5.0\n2008-12-19T00:00:00  14.0\n...                   ...\n2022-01-17T00:00:00  24.0\n2022-01-18T00:00:00  24.0\n2022-01-19T00:00:00  17.0\n2022-01-20T00:00:00  16.0\n2022-01-21T00:00:00  16.0\n\n[516 rows x 1 columns]",
            "text/html": "<div>\n<style scoped>\n    .dataframe tbody tr th:only-of-type {\n        vertical-align: middle;\n    }\n\n    .dataframe tbody tr th {\n        vertical-align: top;\n    }\n\n    .dataframe thead th {\n        text-align: right;\n    }\n</style>\n<table border=\"1\" class=\"dataframe\">\n  <thead>\n    <tr style=\"text-align: right;\">\n      <th></th>\n      <th>TMIN</th>\n    </tr>\n    <tr>\n      <th>date</th>\n      <th></th>\n    </tr>\n  </thead>\n  <tbody>\n    <tr>\n      <th>2008-12-15T00:00:00</th>\n      <td>-19.0</td>\n    </tr>\n    <tr>\n      <th>2008-12-16T00:00:00</th>\n      <td>-8.0</td>\n    </tr>\n    <tr>\n      <th>2008-12-17T00:00:00</th>\n      <td>14.0</td>\n    </tr>\n    <tr>\n      <th>2008-12-18T00:00:00</th>\n      <td>5.0</td>\n    </tr>\n    <tr>\n      <th>2008-12-19T00:00:00</th>\n      <td>14.0</td>\n    </tr>\n    <tr>\n      <th>...</th>\n      <td>...</td>\n    </tr>\n    <tr>\n      <th>2022-01-17T00:00:00</th>\n      <td>24.0</td>\n    </tr>\n    <tr>\n      <th>2022-01-18T00:00:00</th>\n      <td>24.0</td>\n    </tr>\n    <tr>\n      <th>2022-01-19T00:00:00</th>\n      <td>17.0</td>\n    </tr>\n    <tr>\n      <th>2022-01-20T00:00:00</th>\n      <td>16.0</td>\n    </tr>\n    <tr>\n      <th>2022-01-21T00:00:00</th>\n      <td>16.0</td>\n    </tr>\n  </tbody>\n</table>\n<p>516 rows × 1 columns</p>\n</div>"
          },
          "metadata": {}
        }
      ],
      "execution_count": 40
    },
    {
      "cell_type": "code",
      "source": "df_concat_data=pd.concat([df_TMAX,df_TMIN],axis=1)",
      "metadata": {
        "trusted": true
      },
      "outputs": [],
      "execution_count": 105
    },
    {
      "cell_type": "code",
      "source": "df_concat_data",
      "metadata": {
        "trusted": true
      },
      "outputs": [
        {
          "execution_count": 108,
          "output_type": "execute_result",
          "data": {
            "text/plain": "                     TMAX  TMIN\ndate                           \n2008-12-15T00:00:00   2.0 -19.0\n2008-12-16T00:00:00  34.0  -8.0\n2008-12-17T00:00:00  37.0  14.0\n2008-12-18T00:00:00  28.0   5.0\n2008-12-19T00:00:00  44.0  14.0\n...                   ...   ...\n2022-01-17T00:00:00  62.0  24.0\n2022-01-18T00:00:00  58.0  24.0\n2022-01-19T00:00:00  31.0  17.0\n2022-01-20T00:00:00  39.0  16.0\n2022-01-21T00:00:00  36.0  16.0\n\n[516 rows x 2 columns]",
            "text/html": "<div>\n<style scoped>\n    .dataframe tbody tr th:only-of-type {\n        vertical-align: middle;\n    }\n\n    .dataframe tbody tr th {\n        vertical-align: top;\n    }\n\n    .dataframe thead th {\n        text-align: right;\n    }\n</style>\n<table border=\"1\" class=\"dataframe\">\n  <thead>\n    <tr style=\"text-align: right;\">\n      <th></th>\n      <th>TMAX</th>\n      <th>TMIN</th>\n    </tr>\n    <tr>\n      <th>date</th>\n      <th></th>\n      <th></th>\n    </tr>\n  </thead>\n  <tbody>\n    <tr>\n      <th>2008-12-15T00:00:00</th>\n      <td>2.0</td>\n      <td>-19.0</td>\n    </tr>\n    <tr>\n      <th>2008-12-16T00:00:00</th>\n      <td>34.0</td>\n      <td>-8.0</td>\n    </tr>\n    <tr>\n      <th>2008-12-17T00:00:00</th>\n      <td>37.0</td>\n      <td>14.0</td>\n    </tr>\n    <tr>\n      <th>2008-12-18T00:00:00</th>\n      <td>28.0</td>\n      <td>5.0</td>\n    </tr>\n    <tr>\n      <th>2008-12-19T00:00:00</th>\n      <td>44.0</td>\n      <td>14.0</td>\n    </tr>\n    <tr>\n      <th>...</th>\n      <td>...</td>\n      <td>...</td>\n    </tr>\n    <tr>\n      <th>2022-01-17T00:00:00</th>\n      <td>62.0</td>\n      <td>24.0</td>\n    </tr>\n    <tr>\n      <th>2022-01-18T00:00:00</th>\n      <td>58.0</td>\n      <td>24.0</td>\n    </tr>\n    <tr>\n      <th>2022-01-19T00:00:00</th>\n      <td>31.0</td>\n      <td>17.0</td>\n    </tr>\n    <tr>\n      <th>2022-01-20T00:00:00</th>\n      <td>39.0</td>\n      <td>16.0</td>\n    </tr>\n    <tr>\n      <th>2022-01-21T00:00:00</th>\n      <td>36.0</td>\n      <td>16.0</td>\n    </tr>\n  </tbody>\n</table>\n<p>516 rows × 2 columns</p>\n</div>"
          },
          "metadata": {}
        }
      ],
      "execution_count": 108
    },
    {
      "cell_type": "code",
      "source": "def t_average(df):\n    return (df.iloc[0]+df.iloc[1])/2",
      "metadata": {
        "trusted": true
      },
      "outputs": [],
      "execution_count": 43
    },
    {
      "cell_type": "code",
      "source": "df_TAVG = df_concat_data.apply(t_average,axis=1)",
      "metadata": {
        "trusted": true
      },
      "outputs": [],
      "execution_count": 46
    },
    {
      "cell_type": "code",
      "source": "df_TAVG",
      "metadata": {
        "trusted": true
      },
      "outputs": [
        {
          "execution_count": 70,
          "output_type": "execute_result",
          "data": {
            "text/plain": "                    date     0\n0    2008-12-15T00:00:00  -8.5\n1    2008-12-16T00:00:00  13.0\n2    2008-12-17T00:00:00  25.5\n3    2008-12-18T00:00:00  16.5\n4    2008-12-19T00:00:00  29.0\n..                   ...   ...\n511  2022-01-17T00:00:00  43.0\n512  2022-01-18T00:00:00  41.0\n513  2022-01-19T00:00:00  24.0\n514  2022-01-20T00:00:00  27.5\n515  2022-01-21T00:00:00  26.0\n\n[516 rows x 2 columns]",
            "text/html": "<div>\n<style scoped>\n    .dataframe tbody tr th:only-of-type {\n        vertical-align: middle;\n    }\n\n    .dataframe tbody tr th {\n        vertical-align: top;\n    }\n\n    .dataframe thead th {\n        text-align: right;\n    }\n</style>\n<table border=\"1\" class=\"dataframe\">\n  <thead>\n    <tr style=\"text-align: right;\">\n      <th></th>\n      <th>date</th>\n      <th>0</th>\n    </tr>\n  </thead>\n  <tbody>\n    <tr>\n      <th>0</th>\n      <td>2008-12-15T00:00:00</td>\n      <td>-8.5</td>\n    </tr>\n    <tr>\n      <th>1</th>\n      <td>2008-12-16T00:00:00</td>\n      <td>13.0</td>\n    </tr>\n    <tr>\n      <th>2</th>\n      <td>2008-12-17T00:00:00</td>\n      <td>25.5</td>\n    </tr>\n    <tr>\n      <th>3</th>\n      <td>2008-12-18T00:00:00</td>\n      <td>16.5</td>\n    </tr>\n    <tr>\n      <th>4</th>\n      <td>2008-12-19T00:00:00</td>\n      <td>29.0</td>\n    </tr>\n    <tr>\n      <th>...</th>\n      <td>...</td>\n      <td>...</td>\n    </tr>\n    <tr>\n      <th>511</th>\n      <td>2022-01-17T00:00:00</td>\n      <td>43.0</td>\n    </tr>\n    <tr>\n      <th>512</th>\n      <td>2022-01-18T00:00:00</td>\n      <td>41.0</td>\n    </tr>\n    <tr>\n      <th>513</th>\n      <td>2022-01-19T00:00:00</td>\n      <td>24.0</td>\n    </tr>\n    <tr>\n      <th>514</th>\n      <td>2022-01-20T00:00:00</td>\n      <td>27.5</td>\n    </tr>\n    <tr>\n      <th>515</th>\n      <td>2022-01-21T00:00:00</td>\n      <td>26.0</td>\n    </tr>\n  </tbody>\n</table>\n<p>516 rows × 2 columns</p>\n</div>"
          },
          "metadata": {}
        }
      ],
      "execution_count": 70
    },
    {
      "cell_type": "code",
      "source": "df_TAVG=df_TAVG.reset_index()",
      "metadata": {
        "trusted": true
      },
      "outputs": [],
      "execution_count": 71
    },
    {
      "cell_type": "code",
      "source": "df_TAVG=df_TAVG.set_index('date')",
      "metadata": {
        "trusted": true
      },
      "outputs": [],
      "execution_count": 78
    },
    {
      "cell_type": "code",
      "source": "df_TAVG",
      "metadata": {
        "trusted": true
      },
      "outputs": [
        {
          "execution_count": 79,
          "output_type": "execute_result",
          "data": {
            "text/plain": "                        0\ndate                     \n2008-12-15T00:00:00  -8.5\n2008-12-16T00:00:00  13.0\n2008-12-17T00:00:00  25.5\n2008-12-18T00:00:00  16.5\n2008-12-19T00:00:00  29.0\n...                   ...\n2022-01-17T00:00:00  43.0\n2022-01-18T00:00:00  41.0\n2022-01-19T00:00:00  24.0\n2022-01-20T00:00:00  27.5\n2022-01-21T00:00:00  26.0\n\n[516 rows x 1 columns]",
            "text/html": "<div>\n<style scoped>\n    .dataframe tbody tr th:only-of-type {\n        vertical-align: middle;\n    }\n\n    .dataframe tbody tr th {\n        vertical-align: top;\n    }\n\n    .dataframe thead th {\n        text-align: right;\n    }\n</style>\n<table border=\"1\" class=\"dataframe\">\n  <thead>\n    <tr style=\"text-align: right;\">\n      <th></th>\n      <th>0</th>\n    </tr>\n    <tr>\n      <th>date</th>\n      <th></th>\n    </tr>\n  </thead>\n  <tbody>\n    <tr>\n      <th>2008-12-15T00:00:00</th>\n      <td>-8.5</td>\n    </tr>\n    <tr>\n      <th>2008-12-16T00:00:00</th>\n      <td>13.0</td>\n    </tr>\n    <tr>\n      <th>2008-12-17T00:00:00</th>\n      <td>25.5</td>\n    </tr>\n    <tr>\n      <th>2008-12-18T00:00:00</th>\n      <td>16.5</td>\n    </tr>\n    <tr>\n      <th>2008-12-19T00:00:00</th>\n      <td>29.0</td>\n    </tr>\n    <tr>\n      <th>...</th>\n      <td>...</td>\n    </tr>\n    <tr>\n      <th>2022-01-17T00:00:00</th>\n      <td>43.0</td>\n    </tr>\n    <tr>\n      <th>2022-01-18T00:00:00</th>\n      <td>41.0</td>\n    </tr>\n    <tr>\n      <th>2022-01-19T00:00:00</th>\n      <td>24.0</td>\n    </tr>\n    <tr>\n      <th>2022-01-20T00:00:00</th>\n      <td>27.5</td>\n    </tr>\n    <tr>\n      <th>2022-01-21T00:00:00</th>\n      <td>26.0</td>\n    </tr>\n  </tbody>\n</table>\n<p>516 rows × 1 columns</p>\n</div>"
          },
          "metadata": {}
        }
      ],
      "execution_count": 79
    },
    {
      "cell_type": "code",
      "source": "df_TAVG.rename(columns={0:'TAVG'},inplace=True)",
      "metadata": {
        "trusted": true
      },
      "outputs": [],
      "execution_count": 82
    },
    {
      "cell_type": "code",
      "source": "df_TAVG",
      "metadata": {
        "trusted": true
      },
      "outputs": [
        {
          "execution_count": 83,
          "output_type": "execute_result",
          "data": {
            "text/plain": "                     TAVG\ndate                     \n2008-12-15T00:00:00  -8.5\n2008-12-16T00:00:00  13.0\n2008-12-17T00:00:00  25.5\n2008-12-18T00:00:00  16.5\n2008-12-19T00:00:00  29.0\n...                   ...\n2022-01-17T00:00:00  43.0\n2022-01-18T00:00:00  41.0\n2022-01-19T00:00:00  24.0\n2022-01-20T00:00:00  27.5\n2022-01-21T00:00:00  26.0\n\n[516 rows x 1 columns]",
            "text/html": "<div>\n<style scoped>\n    .dataframe tbody tr th:only-of-type {\n        vertical-align: middle;\n    }\n\n    .dataframe tbody tr th {\n        vertical-align: top;\n    }\n\n    .dataframe thead th {\n        text-align: right;\n    }\n</style>\n<table border=\"1\" class=\"dataframe\">\n  <thead>\n    <tr style=\"text-align: right;\">\n      <th></th>\n      <th>TAVG</th>\n    </tr>\n    <tr>\n      <th>date</th>\n      <th></th>\n    </tr>\n  </thead>\n  <tbody>\n    <tr>\n      <th>2008-12-15T00:00:00</th>\n      <td>-8.5</td>\n    </tr>\n    <tr>\n      <th>2008-12-16T00:00:00</th>\n      <td>13.0</td>\n    </tr>\n    <tr>\n      <th>2008-12-17T00:00:00</th>\n      <td>25.5</td>\n    </tr>\n    <tr>\n      <th>2008-12-18T00:00:00</th>\n      <td>16.5</td>\n    </tr>\n    <tr>\n      <th>2008-12-19T00:00:00</th>\n      <td>29.0</td>\n    </tr>\n    <tr>\n      <th>...</th>\n      <td>...</td>\n    </tr>\n    <tr>\n      <th>2022-01-17T00:00:00</th>\n      <td>43.0</td>\n    </tr>\n    <tr>\n      <th>2022-01-18T00:00:00</th>\n      <td>41.0</td>\n    </tr>\n    <tr>\n      <th>2022-01-19T00:00:00</th>\n      <td>24.0</td>\n    </tr>\n    <tr>\n      <th>2022-01-20T00:00:00</th>\n      <td>27.5</td>\n    </tr>\n    <tr>\n      <th>2022-01-21T00:00:00</th>\n      <td>26.0</td>\n    </tr>\n  </tbody>\n</table>\n<p>516 rows × 1 columns</p>\n</div>"
          },
          "metadata": {}
        }
      ],
      "execution_count": 83
    },
    {
      "cell_type": "code",
      "source": "df_final=pd.concat([df_concat_data,df_TAVG],axis=1)",
      "metadata": {
        "trusted": true
      },
      "outputs": [],
      "execution_count": 94
    },
    {
      "cell_type": "code",
      "source": "df_final",
      "metadata": {
        "trusted": true
      },
      "outputs": [
        {
          "execution_count": 95,
          "output_type": "execute_result",
          "data": {
            "text/plain": "                     TMAX  TMIN  TAVG\ndate                                 \n2008-12-15T00:00:00   2.0 -19.0  -8.5\n2008-12-16T00:00:00  34.0  -8.0  13.0\n2008-12-17T00:00:00  37.0  14.0  25.5\n2008-12-18T00:00:00  28.0   5.0  16.5\n2008-12-19T00:00:00  44.0  14.0  29.0\n...                   ...   ...   ...\n2022-01-17T00:00:00  62.0  24.0  43.0\n2022-01-18T00:00:00  58.0  24.0  41.0\n2022-01-19T00:00:00  31.0  17.0  24.0\n2022-01-20T00:00:00  39.0  16.0  27.5\n2022-01-21T00:00:00  36.0  16.0  26.0\n\n[516 rows x 3 columns]",
            "text/html": "<div>\n<style scoped>\n    .dataframe tbody tr th:only-of-type {\n        vertical-align: middle;\n    }\n\n    .dataframe tbody tr th {\n        vertical-align: top;\n    }\n\n    .dataframe thead th {\n        text-align: right;\n    }\n</style>\n<table border=\"1\" class=\"dataframe\">\n  <thead>\n    <tr style=\"text-align: right;\">\n      <th></th>\n      <th>TMAX</th>\n      <th>TMIN</th>\n      <th>TAVG</th>\n    </tr>\n    <tr>\n      <th>date</th>\n      <th></th>\n      <th></th>\n      <th></th>\n    </tr>\n  </thead>\n  <tbody>\n    <tr>\n      <th>2008-12-15T00:00:00</th>\n      <td>2.0</td>\n      <td>-19.0</td>\n      <td>-8.5</td>\n    </tr>\n    <tr>\n      <th>2008-12-16T00:00:00</th>\n      <td>34.0</td>\n      <td>-8.0</td>\n      <td>13.0</td>\n    </tr>\n    <tr>\n      <th>2008-12-17T00:00:00</th>\n      <td>37.0</td>\n      <td>14.0</td>\n      <td>25.5</td>\n    </tr>\n    <tr>\n      <th>2008-12-18T00:00:00</th>\n      <td>28.0</td>\n      <td>5.0</td>\n      <td>16.5</td>\n    </tr>\n    <tr>\n      <th>2008-12-19T00:00:00</th>\n      <td>44.0</td>\n      <td>14.0</td>\n      <td>29.0</td>\n    </tr>\n    <tr>\n      <th>...</th>\n      <td>...</td>\n      <td>...</td>\n      <td>...</td>\n    </tr>\n    <tr>\n      <th>2022-01-17T00:00:00</th>\n      <td>62.0</td>\n      <td>24.0</td>\n      <td>43.0</td>\n    </tr>\n    <tr>\n      <th>2022-01-18T00:00:00</th>\n      <td>58.0</td>\n      <td>24.0</td>\n      <td>41.0</td>\n    </tr>\n    <tr>\n      <th>2022-01-19T00:00:00</th>\n      <td>31.0</td>\n      <td>17.0</td>\n      <td>24.0</td>\n    </tr>\n    <tr>\n      <th>2022-01-20T00:00:00</th>\n      <td>39.0</td>\n      <td>16.0</td>\n      <td>27.5</td>\n    </tr>\n    <tr>\n      <th>2022-01-21T00:00:00</th>\n      <td>36.0</td>\n      <td>16.0</td>\n      <td>26.0</td>\n    </tr>\n  </tbody>\n</table>\n<p>516 rows × 3 columns</p>\n</div>"
          },
          "metadata": {}
        }
      ],
      "execution_count": 95
    },
    {
      "cell_type": "code",
      "source": "def change_index(word):\n    return word.split('T')[0]",
      "metadata": {
        "trusted": true
      },
      "outputs": [],
      "execution_count": 96
    },
    {
      "cell_type": "code",
      "source": "df_final.index = [change_index(i) for i in df_final.index]",
      "metadata": {
        "trusted": true
      },
      "outputs": [],
      "execution_count": 98
    },
    {
      "cell_type": "code",
      "source": "df_final",
      "metadata": {
        "trusted": true
      },
      "outputs": [
        {
          "execution_count": 99,
          "output_type": "execute_result",
          "data": {
            "text/plain": "            TMAX  TMIN  TAVG\n2008-12-15   2.0 -19.0  -8.5\n2008-12-16  34.0  -8.0  13.0\n2008-12-17  37.0  14.0  25.5\n2008-12-18  28.0   5.0  16.5\n2008-12-19  44.0  14.0  29.0\n...          ...   ...   ...\n2022-01-17  62.0  24.0  43.0\n2022-01-18  58.0  24.0  41.0\n2022-01-19  31.0  17.0  24.0\n2022-01-20  39.0  16.0  27.5\n2022-01-21  36.0  16.0  26.0\n\n[516 rows x 3 columns]",
            "text/html": "<div>\n<style scoped>\n    .dataframe tbody tr th:only-of-type {\n        vertical-align: middle;\n    }\n\n    .dataframe tbody tr th {\n        vertical-align: top;\n    }\n\n    .dataframe thead th {\n        text-align: right;\n    }\n</style>\n<table border=\"1\" class=\"dataframe\">\n  <thead>\n    <tr style=\"text-align: right;\">\n      <th></th>\n      <th>TMAX</th>\n      <th>TMIN</th>\n      <th>TAVG</th>\n    </tr>\n  </thead>\n  <tbody>\n    <tr>\n      <th>2008-12-15</th>\n      <td>2.0</td>\n      <td>-19.0</td>\n      <td>-8.5</td>\n    </tr>\n    <tr>\n      <th>2008-12-16</th>\n      <td>34.0</td>\n      <td>-8.0</td>\n      <td>13.0</td>\n    </tr>\n    <tr>\n      <th>2008-12-17</th>\n      <td>37.0</td>\n      <td>14.0</td>\n      <td>25.5</td>\n    </tr>\n    <tr>\n      <th>2008-12-18</th>\n      <td>28.0</td>\n      <td>5.0</td>\n      <td>16.5</td>\n    </tr>\n    <tr>\n      <th>2008-12-19</th>\n      <td>44.0</td>\n      <td>14.0</td>\n      <td>29.0</td>\n    </tr>\n    <tr>\n      <th>...</th>\n      <td>...</td>\n      <td>...</td>\n      <td>...</td>\n    </tr>\n    <tr>\n      <th>2022-01-17</th>\n      <td>62.0</td>\n      <td>24.0</td>\n      <td>43.0</td>\n    </tr>\n    <tr>\n      <th>2022-01-18</th>\n      <td>58.0</td>\n      <td>24.0</td>\n      <td>41.0</td>\n    </tr>\n    <tr>\n      <th>2022-01-19</th>\n      <td>31.0</td>\n      <td>17.0</td>\n      <td>24.0</td>\n    </tr>\n    <tr>\n      <th>2022-01-20</th>\n      <td>39.0</td>\n      <td>16.0</td>\n      <td>27.5</td>\n    </tr>\n    <tr>\n      <th>2022-01-21</th>\n      <td>36.0</td>\n      <td>16.0</td>\n      <td>26.0</td>\n    </tr>\n  </tbody>\n</table>\n<p>516 rows × 3 columns</p>\n</div>"
          },
          "metadata": {}
        }
      ],
      "execution_count": 99
    },
    {
      "cell_type": "code",
      "source": "df_final.to_csv('data/all_data_max_min_avg.csv')",
      "metadata": {
        "trusted": true
      },
      "outputs": [],
      "execution_count": 100
    },
    {
      "cell_type": "code",
      "source": "",
      "metadata": {
        "trusted": true
      },
      "outputs": [],
      "execution_count": null
    }
  ]
}