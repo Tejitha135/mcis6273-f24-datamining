{
  "metadata": {
    "kernelspec": {
      "name": "python",
      "display_name": "Python (Pyodide)",
      "language": "python"
    },
    "language_info": {
      "codemirror_mode": {
        "name": "python",
        "version": 3
      },
      "file_extension": ".py",
      "mimetype": "text/x-python",
      "name": "python",
      "nbconvert_exporter": "python",
      "pygments_lexer": "ipython3",
      "version": "3.8"
    }
  },
  "nbformat_minor": 4,
  "nbformat": 4,
  "cells": [
    {
      "cell_type": "code",
      "source": "import pandas as pd",
      "metadata": {
        "trusted": true
      },
      "outputs": [],
      "execution_count": 43
    },
    {
      "cell_type": "code",
      "source": "def average(dataframe):\n    df_final=pd.DataFrame({'total':[0]*len(dataframe.index)})\n    for col in dataframe.columns:\n        df_final['total']=df_final['total']+dataframe[col]\n        return df_final/len(dataframe.columns)",
      "metadata": {
        "trusted": true
      },
      "outputs": [],
      "execution_count": 44
    },
    {
      "cell_type": "code",
      "source": "def average_warmest(dataframe):\n    average_value = dataframe['TMIN'].mean()\n    return average_value",
      "metadata": {
        "trusted": true
      },
      "outputs": [],
      "execution_count": 47
    },
    {
      "cell_type": "code",
      "source": "def average_coldest(dataframe):\n    average_value = dataframe['TMAX'].mean()\n    return average_value",
      "metadata": {
        "trusted": true
      },
      "outputs": [],
      "execution_count": 51
    }
  ]
}
